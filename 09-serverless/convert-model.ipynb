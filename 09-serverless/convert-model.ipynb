{
 "cells": [
  {
   "cell_type": "code",
   "execution_count": 1,
   "id": "e4820b49-9f10-44d5-89e8-02fefcf2a325",
   "metadata": {
    "execution": {
     "iopub.execute_input": "2024-12-22T19:15:37.217661Z",
     "iopub.status.busy": "2024-12-22T19:15:37.217346Z",
     "iopub.status.idle": "2024-12-22T19:15:45.283260Z",
     "shell.execute_reply": "2024-12-22T19:15:45.282711Z",
     "shell.execute_reply.started": "2024-12-22T19:15:37.217639Z"
    }
   },
   "outputs": [
    {
     "name": "stderr",
     "output_type": "stream",
     "text": [
      "2024-12-22 19:15:37.442211: I tensorflow/core/util/port.cc:153] oneDNN custom operations are on. You may see slightly different numerical results due to floating-point round-off errors from different computation orders. To turn them off, set the environment variable `TF_ENABLE_ONEDNN_OPTS=0`.\n",
      "2024-12-22 19:15:37.460188: E external/local_xla/xla/stream_executor/cuda/cuda_fft.cc:477] Unable to register cuFFT factory: Attempting to register factory for plugin cuFFT when one has already been registered\n",
      "WARNING: All log messages before absl::InitializeLog() is called are written to STDERR\n",
      "E0000 00:00:1734894937.480107    6695 cuda_dnn.cc:8310] Unable to register cuDNN factory: Attempting to register factory for plugin cuDNN when one has already been registered\n",
      "E0000 00:00:1734894937.486236    6695 cuda_blas.cc:1418] Unable to register cuBLAS factory: Attempting to register factory for plugin cuBLAS when one has already been registered\n",
      "2024-12-22 19:15:37.506292: I tensorflow/core/platform/cpu_feature_guard.cc:210] This TensorFlow binary is optimized to use available CPU instructions in performance-critical operations.\n",
      "To enable the following instructions: AVX2 AVX512F AVX512_VNNI FMA, in other operations, rebuild TensorFlow with the appropriate compiler flags.\n",
      "I0000 00:00:1734894940.086936    6695 gpu_device.cc:2022] Created device /job:localhost/replica:0/task:0/device:GPU:0 with 13942 MB memory:  -> device: 0, name: Tesla T4, pci bus id: 0000:00:1e.0, compute capability: 7.5\n"
     ]
    },
    {
     "name": "stdout",
     "output_type": "stream",
     "text": [
      "INFO:tensorflow:Assets written to: /tmp/tmpy7wai0wl/assets\n"
     ]
    },
    {
     "name": "stderr",
     "output_type": "stream",
     "text": [
      "INFO:tensorflow:Assets written to: /tmp/tmpy7wai0wl/assets\n"
     ]
    },
    {
     "name": "stdout",
     "output_type": "stream",
     "text": [
      "Saved artifact at '/tmp/tmpy7wai0wl'. The following endpoints are available:\n",
      "\n",
      "* Endpoint 'serve'\n",
      "  args_0 (POSITIONAL_ONLY): TensorSpec(shape=(None, 200, 200, 3), dtype=tf.float32, name='input_layer')\n",
      "Output Type:\n",
      "  TensorSpec(shape=(None, 1), dtype=tf.float32, name=None)\n",
      "Captures:\n",
      "  140175674331920: TensorSpec(shape=(), dtype=tf.resource, name=None)\n",
      "  140175674333072: TensorSpec(shape=(), dtype=tf.resource, name=None)\n",
      "  140175674332880: TensorSpec(shape=(), dtype=tf.resource, name=None)\n",
      "  140175674334800: TensorSpec(shape=(), dtype=tf.resource, name=None)\n",
      "  140175674335952: TensorSpec(shape=(), dtype=tf.resource, name=None)\n",
      "  140175674336528: TensorSpec(shape=(), dtype=tf.resource, name=None)\n"
     ]
    },
    {
     "name": "stderr",
     "output_type": "stream",
     "text": [
      "WARNING: All log messages before absl::InitializeLog() is called are written to STDERR\n",
      "W0000 00:00:1734894942.099133    6695 tf_tfl_flatbuffer_helpers.cc:365] Ignored output_format.\n",
      "W0000 00:00:1734894942.099160    6695 tf_tfl_flatbuffer_helpers.cc:368] Ignored drop_control_dependency.\n",
      "2024-12-22 19:15:42.099816: I tensorflow/cc/saved_model/reader.cc:83] Reading SavedModel from: /tmp/tmpy7wai0wl\n",
      "2024-12-22 19:15:42.100342: I tensorflow/cc/saved_model/reader.cc:52] Reading meta graph with tags { serve }\n",
      "2024-12-22 19:15:42.100360: I tensorflow/cc/saved_model/reader.cc:147] Reading SavedModel debug info (if present) from: /tmp/tmpy7wai0wl\n",
      "I0000 00:00:1734894942.104207    6695 mlir_graph_optimization_pass.cc:401] MLIR V1 optimization pass is not enabled\n",
      "2024-12-22 19:15:42.104978: I tensorflow/cc/saved_model/loader.cc:236] Restoring SavedModel bundle.\n",
      "2024-12-22 19:15:42.215104: I tensorflow/cc/saved_model/loader.cc:220] Running initialization op on SavedModel bundle at path: /tmp/tmpy7wai0wl\n",
      "2024-12-22 19:15:42.223679: I tensorflow/cc/saved_model/loader.cc:466] SavedModel load for tags { serve }; Status: success: OK. Took 123865 microseconds.\n",
      "2024-12-22 19:15:42.232613: I tensorflow/compiler/mlir/tensorflow/utils/dump_mlir_util.cc:268] disabling MLIR crash reproducer, set env var `MLIR_CRASH_REPRODUCER_DIRECTORY` to enable.\n"
     ]
    }
   ],
   "source": [
    "import tensorflow as tf\n",
    "from tensorflow import keras\n",
    "\n",
    "model = keras.models.load_model('model_2024_hairstyle.keras')\n",
    "\n",
    "converter = tf.lite.TFLiteConverter.from_keras_model(model)\n",
    "\n",
    "tflite_model = converter.convert()\n",
    "\n",
    "with open('clothing-model.tflite', 'wb') as f_out:\n",
    "    f_out.write(tflite_model)"
   ]
  },
  {
   "cell_type": "code",
   "execution_count": 2,
   "id": "4200b4e7-e4c8-4358-9cb4-0ddb33d788ca",
   "metadata": {
    "execution": {
     "iopub.execute_input": "2024-12-22T19:15:45.284566Z",
     "iopub.status.busy": "2024-12-22T19:15:45.284278Z",
     "iopub.status.idle": "2024-12-22T19:15:45.372597Z",
     "shell.execute_reply": "2024-12-22T19:15:45.371805Z",
     "shell.execute_reply.started": "2024-12-22T19:15:45.284546Z"
    }
   },
   "outputs": [
    {
     "name": "stderr",
     "output_type": "stream",
     "text": [
      "INFO: Created TensorFlow Lite XNNPACK delegate for CPU.\n"
     ]
    }
   ],
   "source": [
    "import tensorflow.lite as tflite\n",
    "interpreter = tflite.Interpreter(model_path='clothing-model.tflite')\n",
    "interpreter.allocate_tensors()\n",
    "\n",
    "input_index = interpreter.get_input_details()[0]['index']\n",
    "output_index = interpreter.get_output_details()[0]['index']"
   ]
  },
  {
   "cell_type": "code",
   "execution_count": 3,
   "id": "03c2365a-bf2d-4db8-bbb1-df2d2411502f",
   "metadata": {
    "execution": {
     "iopub.execute_input": "2024-12-22T19:21:15.946916Z",
     "iopub.status.busy": "2024-12-22T19:21:15.946597Z",
     "iopub.status.idle": "2024-12-22T19:21:15.953399Z",
     "shell.execute_reply": "2024-12-22T19:21:15.952870Z",
     "shell.execute_reply.started": "2024-12-22T19:21:15.946893Z"
    }
   },
   "outputs": [
    {
     "data": {
      "text/plain": [
       "13"
      ]
     },
     "execution_count": 3,
     "metadata": {},
     "output_type": "execute_result"
    }
   ],
   "source": [
    "output_index"
   ]
  },
  {
   "cell_type": "code",
   "execution_count": null,
   "id": "83cda38e-59e7-4033-87a8-225f1c3fcffd",
   "metadata": {},
   "outputs": [],
   "source": []
  }
 ],
 "metadata": {
  "kernelspec": {
   "display_name": "saturn (Python 3)",
   "language": "python",
   "name": "python3"
  },
  "language_info": {
   "codemirror_mode": {
    "name": "ipython",
    "version": 3
   },
   "file_extension": ".py",
   "mimetype": "text/x-python",
   "name": "python",
   "nbconvert_exporter": "python",
   "pygments_lexer": "ipython3",
   "version": "3.12.7"
  }
 },
 "nbformat": 4,
 "nbformat_minor": 5
}
