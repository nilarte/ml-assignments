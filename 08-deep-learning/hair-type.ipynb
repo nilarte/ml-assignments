{
 "cells": [
  {
   "cell_type": "code",
   "execution_count": 1,
   "id": "97e5a21d-c123-4f9d-ad4e-10fab2cfbda1",
   "metadata": {
    "execution": {
     "iopub.execute_input": "2024-11-28T18:18:30.465621Z",
     "iopub.status.busy": "2024-11-28T18:18:30.465276Z",
     "iopub.status.idle": "2024-11-28T18:18:40.368353Z",
     "shell.execute_reply": "2024-11-28T18:18:40.367725Z",
     "shell.execute_reply.started": "2024-11-28T18:18:30.465596Z"
    }
   },
   "outputs": [
    {
     "name": "stderr",
     "output_type": "stream",
     "text": [
      "2024-11-28 18:18:32.283336: I tensorflow/core/util/port.cc:153] oneDNN custom operations are on. You may see slightly different numerical results due to floating-point round-off errors from different computation orders. To turn them off, set the environment variable `TF_ENABLE_ONEDNN_OPTS=0`.\n",
      "2024-11-28 18:18:32.300804: E external/local_xla/xla/stream_executor/cuda/cuda_fft.cc:485] Unable to register cuFFT factory: Attempting to register factory for plugin cuFFT when one has already been registered\n",
      "2024-11-28 18:18:32.320932: E external/local_xla/xla/stream_executor/cuda/cuda_dnn.cc:8454] Unable to register cuDNN factory: Attempting to register factory for plugin cuDNN when one has already been registered\n",
      "2024-11-28 18:18:32.327344: E external/local_xla/xla/stream_executor/cuda/cuda_blas.cc:1452] Unable to register cuBLAS factory: Attempting to register factory for plugin cuBLAS when one has already been registered\n",
      "2024-11-28 18:18:32.342292: I tensorflow/core/platform/cpu_feature_guard.cc:210] This TensorFlow binary is optimized to use available CPU instructions in performance-critical operations.\n",
      "To enable the following instructions: AVX2 AVX512F AVX512_VNNI FMA, in other operations, rebuild TensorFlow with the appropriate compiler flags.\n",
      "2024-11-28 18:18:36.328053: W tensorflow/compiler/tf2tensorrt/utils/py_utils.cc:38] TF-TRT Warning: Could not find TensorRT\n"
     ]
    }
   ],
   "source": [
    "import numpy as np\n",
    "import matplotlib.pyplot as plt\n",
    "\n",
    "%matplotlib inline\n",
    "import tensorflow as tf\n",
    "from tensorflow import keras\n",
    "from tensorflow.keras.preprocessing.image import load_img"
   ]
  },
  {
   "cell_type": "code",
   "execution_count": 2,
   "id": "6375edeb-1967-4147-98ee-7c94ae4c0805",
   "metadata": {
    "execution": {
     "iopub.execute_input": "2024-11-28T18:27:25.720154Z",
     "iopub.status.busy": "2024-11-28T18:27:25.719816Z",
     "iopub.status.idle": "2024-11-28T18:27:25.724048Z",
     "shell.execute_reply": "2024-11-28T18:27:25.723449Z",
     "shell.execute_reply.started": "2024-11-28T18:27:25.720128Z"
    }
   },
   "outputs": [],
   "source": [
    "import numpy as np\n",
    "import tensorflow as tf\n",
    "\n",
    "SEED = 42\n",
    "np.random.seed(SEED)\n",
    "tf.random.set_seed(SEED)"
   ]
  },
  {
   "cell_type": "code",
   "execution_count": null,
   "id": "a43c7891-f455-4618-842c-bab5909647eb",
   "metadata": {},
   "outputs": [],
   "source": []
  },
  {
   "cell_type": "code",
   "execution_count": null,
   "id": "c95643ba-6fcd-4bc4-adfd-6706ba6bfe4c",
   "metadata": {},
   "outputs": [],
   "source": []
  }
 ],
 "metadata": {
  "kernelspec": {
   "display_name": "saturn (Python 3)",
   "language": "python",
   "name": "python3"
  },
  "language_info": {
   "codemirror_mode": {
    "name": "ipython",
    "version": 3
   },
   "file_extension": ".py",
   "mimetype": "text/x-python",
   "name": "python",
   "nbconvert_exporter": "python",
   "pygments_lexer": "ipython3",
   "version": "3.12.7"
  }
 },
 "nbformat": 4,
 "nbformat_minor": 5
}
